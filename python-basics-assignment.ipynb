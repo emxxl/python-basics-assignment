{
 "cells": [
  {
   "cell_type": "markdown",
   "id": "503e7846",
   "metadata": {},
   "source": [
    "# Peer-Graded Assignment – Basics of Python\n",
    "\n",
    "> **Instructions**: Replace placeholders, run every cell top-to-bottom, and take screenshots from each **section header** down to the **final output**. For Markdown, screenshot the rendered output only.\n"
   ]
  },
  {
   "cell_type": "markdown",
   "id": "2cc83212",
   "metadata": {},
   "source": [
    "**Author**: _Your Name Here_  \n",
    "**Date**: 2025-09-13  \n",
    "**Course**: _Course Name_  \n",
    "\n",
    "---\n",
    "\n",
    "## Table of Contents\n",
    "- [1. Objectives](#1.-Objectives)\n",
    "- [2. Environment Check](#2.-Environment-Check)\n",
    "- [3. Imports (optional)](#3.-Imports-(optional))\n",
    "- [4. Python Basics](#4.-Python-Basics)\n",
    "  - [4.1 Variables & Types](#41-Variables--Types)\n",
    "  - [4.2 Operators](#42-Operators)\n",
    "  - [4.3 Strings](#43-Strings)\n",
    "  - [4.4 Collections (List, Tuple, Set, Dict)](#44-Collections-List-Tuple-Set-Dict)\n",
    "  - [4.5 Control Flow (if/elif/else)](#45-Control-Flow-ifelifelse)\n",
    "  - [4.6 Loops](#46-Loops)\n",
    "  - [4.7 Functions](#47-Functions)\n",
    "  - [4.8 List/Dict Comprehensions](#48-ListDict-Comprehensions)\n",
    "- [5. Mini Project](#5.-Mini-Project)\n",
    "- [6. Results & Discussion](#6.-Results--Discussion)\n",
    "- [7. Conclusion](#7.-Conclusion)\n",
    "- [8. Appendix](#8.-Appendix)\n",
    "\n",
    "> **Screenshot Tip**: Include the section header in every screenshot and the final visible output. For Markdown-only sections, the rendered Markdown is enough (no source code needed).\n"
   ]
  },
  {
   "cell_type": "markdown",
   "id": "8593eb5b",
   "metadata": {},
   "source": [
    "## 1. Objectives\n",
    "\n",
    "- Demonstrate proficiency with core Python constructs.\n",
    "- Write clean, idiomatic code and explain your approach.\n",
    "- Produce runnable outputs suitable for screenshot-based peer review.\n",
    "\n",
    "_Fill in any course-specific goals here._\n"
   ]
  },
  {
   "cell_type": "markdown",
   "id": "619f908c",
   "metadata": {},
   "source": [
    "## 2. Environment Check\n",
    "Verify that Python is available in your JupyterLite environment.\n"
   ]
  },
  {
   "cell_type": "code",
   "execution_count": 1,
   "id": "a04764ad",
   "metadata": {
    "execution": {
     "iopub.execute_input": "2025-09-13T06:20:00.117464Z",
     "iopub.status.busy": "2025-09-13T06:20:00.117204Z",
     "iopub.status.idle": "2025-09-13T06:20:00.123648Z",
     "shell.execute_reply": "2025-09-13T06:20:00.123158Z"
    }
   },
   "outputs": [
    {
     "name": "stdout",
     "output_type": "stream",
     "text": [
      "Python: 3.11.8\n",
      "Implementation: CPython\n",
      "Platform: Linux-4.4.0-x86_64-with-glibc2.36\n"
     ]
    }
   ],
   "source": [
    "import sys, platform\n",
    "print(\"Python:\", sys.version.split()[0])\n",
    "print(\"Implementation:\", platform.python_implementation())\n",
    "print(\"Platform:\", platform.platform())\n"
   ]
  },
  {
   "cell_type": "markdown",
   "id": "d131d960",
   "metadata": {},
   "source": [
    "## 3. Imports (optional)\n",
    "\n",
    "For pure basics, standard library is enough. If a package isn't available in JupyterLite, remove it.\n"
   ]
  },
  {
   "cell_type": "code",
   "execution_count": 2,
   "id": "d81f172e",
   "metadata": {
    "execution": {
     "iopub.execute_input": "2025-09-13T06:20:00.126766Z",
     "iopub.status.busy": "2025-09-13T06:20:00.126479Z",
     "iopub.status.idle": "2025-09-13T06:20:00.129722Z",
     "shell.execute_reply": "2025-09-13T06:20:00.129062Z"
    }
   },
   "outputs": [],
   "source": [
    "# Keep it minimal for portability\n",
    "import math\n"
   ]
  },
  {
   "cell_type": "markdown",
   "id": "ce5853fe",
   "metadata": {},
   "source": [
    "## 4. Python Basics\n",
    "\n",
    "Below are focused exercises. Each subsection has:\n",
    "- A brief explanation (Markdown)\n",
    "- An **Exercise** prompt\n",
    "- A code cell with `# TODO` for your solution\n",
    "- A tiny **self-check** (`assert` or printed output) so you can verify correctness before screenshotting\n"
   ]
  },
  {
   "cell_type": "markdown",
   "id": "e14643d7",
   "metadata": {},
   "source": [
    "### 4.1 Variables & Types\n",
    "\n",
    "**Exercise**  \n",
    "1) Create variables: `name` (str), `age` (int), `height_m` (float), `is_student` (bool).  \n",
    "2) Print their types using `type(...)`.  \n",
    "3) Convert `age` to float and `height_m` to int (store as new variables) and print them.\n"
   ]
  },
  {
   "cell_type": "code",
   "execution_count": 3,
   "id": "a5d2a75d",
   "metadata": {
    "execution": {
     "iopub.execute_input": "2025-09-13T06:20:00.132546Z",
     "iopub.status.busy": "2025-09-13T06:20:00.132356Z",
     "iopub.status.idle": "2025-09-13T06:20:00.137318Z",
     "shell.execute_reply": "2025-09-13T06:20:00.136729Z"
    }
   },
   "outputs": [
    {
     "name": "stdout",
     "output_type": "stream",
     "text": [
      "Ada 28 1.64 False\n",
      "<class 'str'> <class 'int'> <class 'float'> <class 'bool'>\n",
      "Converted: 28.0 1\n"
     ]
    }
   ],
   "source": [
    "# TODO: Your solution\n",
    "name = \"Ada\"\n",
    "age = 28\n",
    "height_m = 1.64\n",
    "is_student = False\n",
    "\n",
    "print(name, age, height_m, is_student)\n",
    "print(type(name), type(age), type(height_m), type(is_student))\n",
    "\n",
    "age_f = float(age)\n",
    "height_i = int(height_m)\n",
    "print(\"Converted:\", age_f, height_i)\n",
    "\n",
    "# self-check\n",
    "assert isinstance(name, str)\n",
    "assert isinstance(age, int)\n",
    "assert isinstance(height_m, float)\n",
    "assert isinstance(is_student, bool)\n"
   ]
  },
  {
   "cell_type": "markdown",
   "id": "4fb0db28",
   "metadata": {},
   "source": [
    "### 4.2 Operators\n",
    "\n",
    "**Exercise**  \n",
    "Given `a = 7`, `b = 3`:  \n",
    "1) Compute addition, subtraction, multiplication, true division, floor division, modulo, exponent `a**b`.  \n",
    "2) Show comparison results: `a > b`, `a == b`, `a != b`.  \n",
    "3) Use augmented assignment to add 10 to `a`.\n"
   ]
  },
  {
   "cell_type": "code",
   "execution_count": 4,
   "id": "5c8da5a6",
   "metadata": {
    "execution": {
     "iopub.execute_input": "2025-09-13T06:20:00.139884Z",
     "iopub.status.busy": "2025-09-13T06:20:00.139694Z",
     "iopub.status.idle": "2025-09-13T06:20:00.144618Z",
     "shell.execute_reply": "2025-09-13T06:20:00.144196Z"
    }
   },
   "outputs": [
    {
     "name": "stdout",
     "output_type": "stream",
     "text": [
      "add: 10\n",
      "sub: 4\n",
      "mul: 21\n",
      "true div: 2.3333333333333335\n",
      "floor div: 2\n",
      "mod: 1\n",
      "pow: 343\n",
      "a > b: True\n",
      "a == b: False\n",
      "a != b: True\n",
      "augmented a: 17\n"
     ]
    }
   ],
   "source": [
    "# TODO: Your solution\n",
    "a, b = 7, 3\n",
    "print(\"add:\", a + b)\n",
    "print(\"sub:\", a - b)\n",
    "print(\"mul:\", a * b)\n",
    "print(\"true div:\", a / b)\n",
    "print(\"floor div:\", a // b)\n",
    "print(\"mod:\", a % b)\n",
    "print(\"pow:\", a ** b)\n",
    "\n",
    "print(\"a > b:\", a > b)\n",
    "print(\"a == b:\", a == b)\n",
    "print(\"a != b:\", a != b)\n",
    "\n",
    "a += 10\n",
    "print(\"augmented a:\", a)\n",
    "\n",
    "# self-check\n",
    "assert (7 // 3) == 2\n"
   ]
  },
  {
   "cell_type": "markdown",
   "id": "b3cd1c60",
   "metadata": {},
   "source": [
    "### 4.3 Strings\n",
    "\n",
    "**Exercise**  \n",
    "1) Create `s = \"  hello, Python!  \"`. Trim whitespace, make it title case.  \n",
    "2) Split by comma, then join with `\" | \"`.  \n",
    "3) Use an f-string to print: `\"Name: {name}, Age in months: {age*12}\"`.\n"
   ]
  },
  {
   "cell_type": "code",
   "execution_count": 5,
   "id": "2d74ef80",
   "metadata": {
    "execution": {
     "iopub.execute_input": "2025-09-13T06:20:00.147395Z",
     "iopub.status.busy": "2025-09-13T06:20:00.147083Z",
     "iopub.status.idle": "2025-09-13T06:20:00.152048Z",
     "shell.execute_reply": "2025-09-13T06:20:00.151424Z"
    }
   },
   "outputs": [
    {
     "name": "stdout",
     "output_type": "stream",
     "text": [
      "s2: Hello, Python!\n",
      "joined: Hello | Python!\n",
      "Name: Ada, Age in months: 336\n"
     ]
    }
   ],
   "source": [
    "# TODO: Your solution\n",
    "s = \"  hello, Python!  \"\n",
    "s2 = s.strip().title()\n",
    "parts = s2.split(\",\")\n",
    "joined = \" | \".join([p.strip() for p in parts])\n",
    "print(\"s2:\", s2)\n",
    "print(\"joined:\", joined)\n",
    "\n",
    "print(f\"Name: {name}, Age in months: {age*12}\")\n",
    "\n",
    "# self-check\n",
    "assert s2.startswith(\"Hello\")\n",
    "assert \"|\" in joined\n"
   ]
  },
  {
   "cell_type": "markdown",
   "id": "a62c9207",
   "metadata": {},
   "source": [
    "### 4.4 Collections (List, Tuple, Set, Dict)\n",
    "\n",
    "**Exercise**  \n",
    "1) Create a list of 5 numbers; append, remove one, and slice it.  \n",
    "2) Create a tuple of 3 items; show indexing.  \n",
    "3) Create a set from a list with duplicates; show that duplicates are removed.  \n",
    "4) Create a dict with keys `name`, `age`, `skills` (list) and print a formatted sentence using values.\n"
   ]
  },
  {
   "cell_type": "code",
   "execution_count": 6,
   "id": "61b8dd4c",
   "metadata": {
    "execution": {
     "iopub.execute_input": "2025-09-13T06:20:00.154833Z",
     "iopub.status.busy": "2025-09-13T06:20:00.154604Z",
     "iopub.status.idle": "2025-09-13T06:20:00.199403Z",
     "shell.execute_reply": "2025-09-13T06:20:00.159186Z"
    }
   },
   "outputs": [
    {
     "name": "stdout",
     "output_type": "stream",
     "text": [
      "list: [3, 4, 1, 5, 9] slice: [4, 1, 5]\n",
      "tuple index 0: red\n",
      "set unique: {1, 2, 3}\n",
      "Ada is 28 and knows python, git.\n"
     ]
    }
   ],
   "source": [
    "# TODO: Your solution\n",
    "nums = [3, 1, 4, 1, 5]\n",
    "nums.append(9)\n",
    "nums.remove(1)  # removes first occurrence\n",
    "print(\"list:\", nums, \"slice:\", nums[1:4])\n",
    "\n",
    "t = (\"red\", \"green\", \"blue\")\n",
    "print(\"tuple index 0:\", t[0])\n",
    "\n",
    "dups = [1,1,2,3,3,3]\n",
    "unique = set(dups)\n",
    "print(\"set unique:\", unique)\n",
    "\n",
    "person = {\"name\": name, \"age\": age, \"skills\": [\"python\", \"git\"]}\n",
    "print(f\"{person['name']} is {person['age']} and knows {', '.join(person['skills'])}.\")\n",
    "\n",
    "# self-check\n",
    "assert len(unique) == 3\n"
   ]
  },
  {
   "cell_type": "markdown",
   "id": "f3369144",
   "metadata": {},
   "source": [
    "### 4.5 Control Flow (if/elif/else)\n",
    "\n",
    "**Exercise**  \n",
    "Write a function `grade(score)` that returns `\"A\"` for >= 90, `\"B\"` for >= 80, `\"C\"` for >= 70, `\"D\"` for >= 60, else `\"F\"`.  \n",
    "Test it with several values.\n"
   ]
  },
  {
   "cell_type": "code",
   "execution_count": 7,
   "id": "df542451",
   "metadata": {
    "execution": {
     "iopub.execute_input": "2025-09-13T06:20:00.202417Z",
     "iopub.status.busy": "2025-09-13T06:20:00.202144Z",
     "iopub.status.idle": "2025-09-13T06:20:00.206576Z",
     "shell.execute_reply": "2025-09-13T06:20:00.206181Z"
    }
   },
   "outputs": [
    {
     "name": "stdout",
     "output_type": "stream",
     "text": [
      "{95: 'A', 83: 'B', 76: 'C', 61: 'D', 42: 'F'}\n"
     ]
    }
   ],
   "source": [
    "# TODO: Your solution\n",
    "def grade(score: int) -> str:\n",
    "    if score >= 90: return \"A\"\n",
    "    elif score >= 80: return \"B\"\n",
    "    elif score >= 70: return \"C\"\n",
    "    elif score >= 60: return \"D\"\n",
    "    else: return \"F\"\n",
    "\n",
    "tests = [95, 83, 76, 61, 42]\n",
    "print({t: grade(t) for t in tests})\n",
    "\n",
    "# self-check\n",
    "assert grade(90) == \"A\"\n",
    "assert grade(75) == \"C\"\n",
    "assert grade(0) == \"F\"\n"
   ]
  },
  {
   "cell_type": "markdown",
   "id": "40ffd8bc",
   "metadata": {},
   "source": [
    "### 4.6 Loops\n",
    "\n",
    "**Exercise**  \n",
    "1) Use a `for` loop to compute the factorial of `n = 6`.  \n",
    "2) Use a `while` loop to sum numbers until the sum exceeds 50, starting from 1 increasing by 1 each step.\n"
   ]
  },
  {
   "cell_type": "code",
   "execution_count": 8,
   "id": "fb6d1143",
   "metadata": {
    "execution": {
     "iopub.execute_input": "2025-09-13T06:20:00.209208Z",
     "iopub.status.busy": "2025-09-13T06:20:00.208973Z",
     "iopub.status.idle": "2025-09-13T06:20:00.213593Z",
     "shell.execute_reply": "2025-09-13T06:20:00.213043Z"
    }
   },
   "outputs": [
    {
     "name": "stdout",
     "output_type": "stream",
     "text": [
      "factorial: 720\n",
      "k: 10 total: 55\n"
     ]
    }
   ],
   "source": [
    "# TODO: Your solution\n",
    "n = 6\n",
    "fact = 1\n",
    "for i in range(2, n+1):\n",
    "    fact *= i\n",
    "print(\"factorial:\", fact)\n",
    "\n",
    "total = 0\n",
    "k = 0\n",
    "while total <= 50:\n",
    "    k += 1\n",
    "    total += k\n",
    "print(\"k:\", k, \"total:\", total)\n",
    "\n",
    "# self-check\n",
    "assert fact == 720\n",
    "assert total > 50\n"
   ]
  },
  {
   "cell_type": "markdown",
   "id": "729031c9",
   "metadata": {},
   "source": [
    "### 4.7 Functions\n",
    "\n",
    "**Exercise**  \n",
    "Write `is_prime(n)` that returns True if `n` is prime, False otherwise.  \n",
    "Use it to print all primes from 2..50. Keep it simple and readable.\n"
   ]
  },
  {
   "cell_type": "code",
   "execution_count": 9,
   "id": "207de5ee",
   "metadata": {
    "execution": {
     "iopub.execute_input": "2025-09-13T06:20:00.216037Z",
     "iopub.status.busy": "2025-09-13T06:20:00.215862Z",
     "iopub.status.idle": "2025-09-13T06:20:00.220122Z",
     "shell.execute_reply": "2025-09-13T06:20:00.219717Z"
    }
   },
   "outputs": [
    {
     "name": "stdout",
     "output_type": "stream",
     "text": [
      "[2, 3, 5, 7, 11, 13, 17, 19, 23, 29, 31, 37, 41, 43, 47]\n"
     ]
    }
   ],
   "source": [
    "# TODO: Your solution\n",
    "def is_prime(n: int) -> bool:\n",
    "    if n < 2: return False\n",
    "    if n % 2 == 0: return n == 2\n",
    "    i = 3\n",
    "    while i * i <= n:\n",
    "        if n % i == 0: return False\n",
    "        i += 2\n",
    "    return True\n",
    "\n",
    "primes = [x for x in range(2, 51) if is_prime(x)]\n",
    "print(primes)\n",
    "\n",
    "# self-check\n",
    "assert is_prime(2) and is_prime(3) and is_prime(47)\n",
    "assert not is_prime(1) and not is_prime(25)\n"
   ]
  },
  {
   "cell_type": "markdown",
   "id": "0e678f7b",
   "metadata": {},
   "source": [
    "### 4.8 List/Dict Comprehensions\n",
    "\n",
    "**Exercise**  \n",
    "1) From `nums = [1,2,3,4,5,6]`, build `[x*x for x in nums if x%2==0]`.  \n",
    "2) Build a dict mapping each number to its square for 1..5 using a comprehension.\n"
   ]
  },
  {
   "cell_type": "code",
   "execution_count": 10,
   "id": "e9b1a8d6",
   "metadata": {
    "execution": {
     "iopub.execute_input": "2025-09-13T06:20:00.222517Z",
     "iopub.status.busy": "2025-09-13T06:20:00.222329Z",
     "iopub.status.idle": "2025-09-13T06:20:00.226558Z",
     "shell.execute_reply": "2025-09-13T06:20:00.226143Z"
    }
   },
   "outputs": [
    {
     "name": "stdout",
     "output_type": "stream",
     "text": [
      "even squares: [4, 16, 36]\n",
      "square_map: {1: 1, 2: 4, 3: 9, 4: 16, 5: 25}\n"
     ]
    }
   ],
   "source": [
    "# TODO: Your solution\n",
    "nums = [1,2,3,4,5,6]\n",
    "squares_even = [x*x for x in nums if x % 2 == 0]\n",
    "print(\"even squares:\", squares_even)\n",
    "\n",
    "square_map = {x: x*x for x in range(1,6)}\n",
    "print(\"square_map:\", square_map)\n",
    "\n",
    "# self-check\n",
    "assert squares_even == [4, 16, 36]\n",
    "assert square_map[5] == 25\n"
   ]
  },
  {
   "cell_type": "markdown",
   "id": "89830516",
   "metadata": {},
   "source": [
    "## 5. Mini Project\n",
    "\n",
    "**Task**: Build a tiny command-line style utility that computes basic statistics (count, mean, median) on a list of numbers typed by the user (simulate input with a predefined string for JupyterLite).\n",
    "\n",
    "**Requirements**\n",
    "- Parse a string like `\"10, 2, 7, 7, 3\"`.\n",
    "- Output `count`, `mean`, `median`.\n",
    "- Handle bad tokens gracefully (ignore non-numeric values with a warning).\n",
    "- Show final results in a clean `print` block.\n",
    "\n",
    "_Replace/extend as you like._\n"
   ]
  },
  {
   "cell_type": "code",
   "execution_count": 11,
   "id": "15a73dc5",
   "metadata": {
    "execution": {
     "iopub.execute_input": "2025-09-13T06:20:00.228927Z",
     "iopub.status.busy": "2025-09-13T06:20:00.228750Z",
     "iopub.status.idle": "2025-09-13T06:20:00.233939Z",
     "shell.execute_reply": "2025-09-13T06:20:00.233452Z"
    }
   },
   "outputs": [
    {
     "name": "stdout",
     "output_type": "stream",
     "text": [
      "Ignored non-numeric tokens: ['oops']\n",
      "Count: 6\n",
      "Mean: 5.5\n",
      "Median: 5.5\n"
     ]
    }
   ],
   "source": [
    "# TODO: Your solution\n",
    "raw = \"10, 2, 7, 7, 3, oops, 4\"\n",
    "tokens = [t.strip() for t in raw.split(\",\")]\n",
    "\n",
    "numbers = []\n",
    "bad = []\n",
    "for t in tokens:\n",
    "    try:\n",
    "        numbers.append(float(t))\n",
    "    except ValueError:\n",
    "        bad.append(t)\n",
    "\n",
    "count = len(numbers)\n",
    "mean = sum(numbers)/count if count else float('nan')\n",
    "\n",
    "# median\n",
    "nums_sorted = sorted(numbers)\n",
    "mid = count // 2\n",
    "if count % 2 == 1:\n",
    "    median = nums_sorted[mid]\n",
    "else:\n",
    "    median = (nums_sorted[mid-1] + nums_sorted[mid]) / 2\n",
    "\n",
    "if bad:\n",
    "    print(\"Ignored non-numeric tokens:\", bad)\n",
    "print(f\"Count: {count}\\nMean: {mean}\\nMedian: {median}\")\n"
   ]
  },
  {
   "cell_type": "markdown",
   "id": "bdae5416",
   "metadata": {},
   "source": [
    "## 6. Results & Discussion\n",
    "\n",
    "Summarize what you learned and any tricky parts. If something failed, explain how you debugged it or what you'd try next.\n"
   ]
  },
  {
   "cell_type": "markdown",
   "id": "292e2289",
   "metadata": {},
   "source": [
    "## 7. Conclusion\n",
    "\n",
    "One or two sentences that wrap up your learnings from Python basics.\n"
   ]
  },
  {
   "cell_type": "markdown",
   "id": "a73bc8af",
   "metadata": {},
   "source": [
    "## 8. Appendix\n",
    "\n",
    "- Extra notes, references, or optional experiments.\n",
    "- Screenshot reminder: include the **section header** and **final output** each time.\n"
   ]
  }
 ],
 "metadata": {
  "kernelspec": {
   "display_name": "Python 3",
   "language": "python",
   "name": "python3"
  },
  "language_info": {
   "codemirror_mode": {
    "name": "ipython",
    "version": 3
   },
   "file_extension": ".py",
   "mimetype": "text/x-python",
   "name": "python",
   "nbconvert_exporter": "python",
   "pygments_lexer": "ipython3",
   "version": "3.11.8"
  }
 },
 "nbformat": 4,
 "nbformat_minor": 5
}
